{
 "cells": [
  {
   "cell_type": "code",
   "execution_count": 3,
   "metadata": {
    "id": "fLEyHb6jQDeo",
    "outputId": "ec320504-7957-45ff-a012-490a965d9a91"
   },
   "outputs": [
    {
     "name": "stdout",
     "output_type": "stream",
     "text": [
      "191345\n",
      "58\n",
      "dict built\n"
     ]
    }
   ],
   "source": [
    "import pandas as pd\n",
    "path = \"senticnet.xlsx\"\n",
    "file = pd.read_excel(path)\n",
    "row_num = file.shape[0]\n",
    "col_num = file.shape[1]\n",
    "print(row_num)\n",
    "print(col_num)\n",
    "emo_dict = {}\n",
    "att_dict = {}\n",
    "for row in range(row_num):\n",
    "    word = file.loc[row][\"CONCEPT\"]\n",
    "    w1 = file.loc[row][\"W1\"]\n",
    "    w2 = file.loc[row][\"W2\"]\n",
    "    w3 = file.loc[row][\"W3\"]\n",
    "    w4 = file.loc[row][\"W4\"]\n",
    "    w5 = file.loc[row][\"W5\"]\n",
    "    emo_dict[word] = file.loc[row][\"PRIMARY EMOTION\"]\n",
    "    emo_dict[w1] = file.loc[row][\"PRIMARY EMOTION\"]\n",
    "    emo_dict[w2] = file.loc[row][\"PRIMARY EMOTION\"]\n",
    "    emo_dict[w3] = file.loc[row][\"PRIMARY EMOTION\"]\n",
    "    emo_dict[w4] = file.loc[row][\"PRIMARY EMOTION\"]\n",
    "    emo_dict[w5] = file.loc[row][\"PRIMARY EMOTION\"]\n",
    "    att_dict[word] = file.loc[row][\"SCORE\"]\n",
    "    att_dict[w1] = file.loc[row][\"SCORE\"]\n",
    "    att_dict[w2] = file.loc[row][\"SCORE\"]\n",
    "    att_dict[w3] = file.loc[row][\"SCORE\"]\n",
    "    att_dict[w4] = file.loc[row][\"SCORE\"]\n",
    "    att_dict[w5] = file.loc[row][\"SCORE\"]\n",
    "#     for col in range(col_num):\n",
    "#         if file.iloc[row][col] ==1:\n",
    "#             emo_dict[word] = col\n",
    "#             break\n",
    "#         else:\n",
    "#             emo_dict[word] = 0\n",
    "print(\"dict built\")"
   ]
  },
  {
   "cell_type": "code",
   "execution_count": 4,
   "metadata": {
    "id": "efsalTFzQDes",
    "outputId": "94b9a3da-2e0c-43a2-d2d3-9e50baf42f0d"
   },
   "outputs": [
    {
     "name": "stdout",
     "output_type": "stream",
     "text": [
      "14182\n",
      "9\n"
     ]
    },
    {
     "name": "stderr",
     "output_type": "stream",
     "text": [
      "C:\\Users\\yli14\\AppData\\Local\\Temp\\ipykernel_27768\\3707606094.py:12: FutureWarning: Series.__getitem__ treating keys as positions is deprecated. In a future version, integer keys will always be treated as labels (consistent with DataFrame behavior). To access a value by position, use `ser.iloc[pos]`\n",
      "  if file.iloc[row][col] ==1:\n"
     ]
    },
    {
     "name": "stdout",
     "output_type": "stream",
     "text": [
      "dict built\n"
     ]
    }
   ],
   "source": [
    "import pandas as pd\n",
    "path = \"dict.xlsx\"\n",
    "file = pd.read_excel(path)\n",
    "row_num = file.shape[0]\n",
    "col_num = file.shape[1]\n",
    "print(row_num)\n",
    "print(col_num)\n",
    "nrc_dict = {}\n",
    "for row in range(row_num):\n",
    "    word = file.loc[row][\"words\"]\n",
    "    for col in range(col_num):\n",
    "        if file.iloc[row][col] ==1:\n",
    "            nrc_dict[word] = col\n",
    "            break\n",
    "        else:\n",
    "            nrc_dict[word] = 0\n",
    "print(\"dict built\")"
   ]
  },
  {
   "cell_type": "code",
   "execution_count": 5,
   "metadata": {
    "id": "w2COQlT3QDet",
    "outputId": "37ac9a04-4971-46de-aab0-0f53baeb742c"
   },
   "outputs": [
    {
     "name": "stdout",
     "output_type": "stream",
     "text": [
      "6786\n",
      "2\n",
      "dict built\n"
     ]
    }
   ],
   "source": [
    "path = \"Bing.csv\"\n",
    "file = pd.read_csv(path)\n",
    "row_num = file.shape[0]\n",
    "col_num = file.shape[1]\n",
    "print(row_num)\n",
    "print(col_num)\n",
    "sent_dict = {}\n",
    "for row in range(row_num):\n",
    "    word = file.loc[row][\"word\"]\n",
    "    sent_dict[word] = file.loc[row][\"sentiment\"]\n",
    "print(\"dict built\")"
   ]
  },
  {
   "cell_type": "code",
   "execution_count": 9,
   "metadata": {
    "id": "HAaaszhaQDet"
   },
   "outputs": [],
   "source": [
    "def split(sentence):\n",
    "#     stemmer = nltk.PorterStemmer()\n",
    "#     stemmer = snowballstemmer.stemmer('english')\n",
    "#     word_list = stemmer.stem(sentence.split())\n",
    "    word_list = sentence.split()\n",
    "    return [word_list]"
   ]
  },
  {
   "cell_type": "code",
   "execution_count": 11,
   "metadata": {
    "id": "cudjVJYhQDet"
   },
   "outputs": [],
   "source": [
    "def word_emotion(word):\n",
    "    if word in emo_dict:\n",
    "        emo = emo_dict[word]\n",
    "    elif word in nrc_dict:\n",
    "        emo = nrc_dict[word]\n",
    "    elif word in sent_dict:\n",
    "        emo = sent_dict[word]\n",
    "    else:\n",
    "        emo = 0\n",
    "    return emo\n",
    "\n",
    "def word_att(word):\n",
    "    if word in att_dict:\n",
    "        att = att_dict[word]\n",
    "    else:\n",
    "        att = 0\n",
    "    return att"
   ]
  },
  {
   "cell_type": "code",
   "execution_count": 13,
   "metadata": {
    "id": "w7P3BckLQDeu"
   },
   "outputs": [],
   "source": [
    "def word_emotion(word):\n",
    "    if word in emo_dict:\n",
    "        emo = emo_dict[word]\n",
    "    elif word in nrc_dict:\n",
    "        emo = nrc_dict[word]\n",
    "    else:\n",
    "        emo = 0\n",
    "    return emo"
   ]
  },
  {
   "cell_type": "code",
   "execution_count": null,
   "metadata": {
    "id": "TwPL-91WQDeu"
   },
   "outputs": [],
   "source": [
    "\n"
   ]
  },
  {
   "cell_type": "code",
   "execution_count": 16,
   "metadata": {
    "id": "qDJjzGXsQDeu"
   },
   "outputs": [],
   "source": [
    "def highlight(word,emo):\n",
    "    h_word_list = []\n",
    "    attn = word_att(word)\n",
    "#     html_color = '#%02X%02X%02X' % (255, int(255*(1-attn)), int(255*(1-attn)))\n",
    "    if emo ==1:\n",
    "        html_color = (255,0,0)\n",
    "    elif emo ==2:\n",
    "        html_color = (255,127,80)\n",
    "    elif emo ==3:\n",
    "        html_color = (186,85,211)\n",
    "    elif emo ==4:\n",
    "        html_color = (0,128,0)\n",
    "    elif emo ==5:\n",
    "        html_color = (255,255,0)\n",
    "    elif emo ==6:\n",
    "        html_color = (0,0,255)\n",
    "    elif emo ==7:\n",
    "        html_color = (30,144,255)\n",
    "    elif emo ==8:\n",
    "        html_color = (0,255,0)\n",
    "    elif emo ==\"#anger\":\n",
    "        html_color = (255,0,0,attn)\n",
    "    elif emo ==\"#acceptance\":\n",
    "        html_color = (152,251,152,attn)\n",
    "    elif emo ==\"#disgust\":\n",
    "        html_color = (186,85,211,attn)\n",
    "    elif emo ==\"#fear\":\n",
    "        html_color = (0,128,0,attn)\n",
    "    elif emo ==\"#joy\":\n",
    "        html_color = (255,255,0,attn)\n",
    "    elif emo ==\"#sadness\":\n",
    "        html_color = (106,90,205,attn)\n",
    "    elif emo ==\"#terror\":\n",
    "        html_color = (0,100,0,attn)\n",
    "    elif emo ==\"#grief\":\n",
    "        html_color = (20,20,222,attn)\n",
    "    elif emo ==\"#annoyance\":\n",
    "        html_color = (219,112,147,attn)\n",
    "    elif emo ==\"#anxiety\":\n",
    "        html_color = (189,183,107,attn)\n",
    "    elif emo ==\"#bliss\":\n",
    "        html_color = (240,230,140,attn)\n",
    "    elif emo ==\"#calmness\":\n",
    "        html_color = (169,169,169,attn)\n",
    "    elif emo ==\"#contentment\":\n",
    "        html_color = (244,164,96,attn)\n",
    "    elif emo ==\"#delight\":\n",
    "        html_color = (255,215,0,attn)\n",
    "    elif emo ==\"#dislike\":\n",
    "        html_color = (255,99,71,attn)\n",
    "    elif emo ==\"#eagerness\":\n",
    "        html_color = (210,105,30,attn)\n",
    "    elif emo ==\"#ecstasy\":\n",
    "        html_color = (255,140,0,attn)\n",
    "    elif emo ==\"#enthusiasm\":\n",
    "        html_color = (178,34,34,attn)\n",
    "    elif emo ==\"#loathing\":\n",
    "        html_color = (255,0,255,attn)\n",
    "    elif emo ==\"#melancholy\":\n",
    "        html_color = (123,104,238,attn)\n",
    "    elif emo ==\"#pleasantness\":\n",
    "        html_color = (250,250,210,attn)\n",
    "    elif emo ==\"#rage\":\n",
    "        html_color = (128,0,0,attn)\n",
    "    elif emo ==\"#responsive\":\n",
    "        html_color = (95,158,160,attn)\n",
    "    elif emo ==\"#responsiveness\":\n",
    "        html_color = (95,158,160,attn)\n",
    "    elif emo ==\"#serenity\":\n",
    "        html_color = (238,232,170,attn)\n",
    "\n",
    "\n",
    "\n",
    "    elif emo == \"positive\":\n",
    "        html_color = (205,92,92)\n",
    "    elif emo == \"negative\":\n",
    "        html_color = (107,142,35)\n",
    "    else:\n",
    "        html_color =(255,255,255,0)\n",
    "#     html_color = '#%02X%02X%02X' % (int(255*(1-attn)), 255, int(255*(1-attn)))\n",
    "    return '<span style = \"background-color:rgb{}\">{}</span>'.format(html_color,word)\n",
    "\n",
    "def mk_html(seq,emos):\n",
    "    html = \"\"\n",
    "    for ix, emo in zip(seq, emos):\n",
    "        html += ' ' + highlight(\n",
    "            ix,\n",
    "            emo\n",
    "        )\n",
    "    return html +\"<br>\"\n",
    "\n"
   ]
  },
  {
   "cell_type": "code",
   "execution_count": 20,
   "metadata": {
    "id": "0iVnuRFcQDev",
    "outputId": "ce772be6-7886-471c-ccf1-9fbf3f9c870a"
   },
   "outputs": [
    {
     "data": {
      "text/html": [
       " <span style = \"background-color:rgb(255, 255, 255, 0)\">Update</span> <span style = \"background-color:rgb(255, 255, 255, 0)\">3.5</span> <span style = \"background-color:rgb(255, 255, 255, 0)\">years</span> <span style = \"background-color:rgb(255, 255, 255, 0)\">in:</span> <span style = \"background-color:rgb(255, 255, 255, 0)\">still</span> <span style = \"background-color:rgb(255, 140, 0, 0.82)\">love</span> <span style = \"background-color:rgb(255, 255, 255, 0)\">it,</span> <span style = \"background-color:rgb(255, 255, 255, 0)\">use</span> <span style = \"background-color:rgb(255, 255, 255, 0)\">it</span> <span style = \"background-color:rgb(255, 255, 255, 0)\">all</span> <span style = \"background-color:rgb(255, 255, 255, 0)\">the</span> <span style = \"background-color:rgb(255, 255, 255, 0)\">time,</span> <span style = \"background-color:rgb(255, 255, 255, 0)\">no</span> <span style = \"background-color:rgb(255, 255, 255, 0)\">problems.</span> <span style = \"background-color:rgb(255, 255, 255, 0)\">For</span> <span style = \"background-color:rgb(255, 255, 255, 0)\">a</span> <span style = \"background-color:rgb(255, 127, 80)\">long</span> <span style = \"background-color:rgb(255, 255, 255, 0)\">time,</span> <span style = \"background-color:rgb(255, 255, 255, 0)\">I</span> <span style = \"background-color:rgb(255, 255, 255, 0)\">wasn't</span> <span style = \"background-color:rgb(255, 255, 255, 0)\">a</span> <span style = \"background-color:rgb(255, 255, 255, 0)\">believer.</span> <span style = \"background-color:rgb(255, 255, 255, 0)\">If</span> <span style = \"background-color:rgb(255, 255, 255, 0)\">I</span> <span style = \"background-color:rgb(255, 255, 255, 0)\">want</span> <span style = \"background-color:rgb(255, 255, 255, 0)\">to</span> <span style = \"background-color:rgb(95, 158, 160, 0.199)\">cook</span> <span style = \"background-color:rgb(255, 255, 255, 0)\">something</span> <span style = \"background-color:rgb(255, 255, 255, 0)\">for</span> <span style = \"background-color:rgb(255, 255, 255, 0)\">hours</span> <span style = \"background-color:rgb(255, 255, 255, 0)\">until</span> <span style = \"background-color:rgb(255, 255, 255, 0)\">its</span> <span style = \"background-color:rgb(244, 164, 96, 0.189)\">delicious</span> <span style = \"background-color:rgb(255, 255, 255, 0)\">and</span> <span style = \"background-color:rgb(255, 255, 255, 0)\">tender,</span> <span style = \"background-color:rgb(255, 255, 255, 0)\">I've</span> <span style = \"background-color:rgb(255, 255, 255, 0)\">got</span> <span style = \"background-color:rgb(255, 255, 255, 0)\">a</span> <span style = \"background-color:rgb(20, 20, 222, 0.78)\">traditional</span> <span style = \"background-color:rgb(123, 104, 238, 0.113)\">slow</span> <span style = \"background-color:rgb(255, 255, 255, 0)\">cooker.</span> <span style = \"background-color:rgb(255, 255, 255, 0)\">If</span> <span style = \"background-color:rgb(255, 255, 255, 0)\">I</span> <span style = \"background-color:rgb(255, 255, 255, 0)\">want</span> <span style = \"background-color:rgb(255, 255, 255, 0)\">to</span> <span style = \"background-color:rgb(255, 255, 255, 0)\">feel</span> <span style = \"background-color:rgb(128, 0, 0, 0.919)\">fancy</span> <span style = \"background-color:rgb(255, 255, 255, 0)\">when</span> <span style = \"background-color:rgb(255, 255, 255, 0)\">I'm</span> <span style = \"background-color:rgb(255, 140, 0, 0.835)\">preparing</span> <span style = \"background-color:rgb(255, 255, 255, 0)\">perfectly-cooked</span> <span style = \"background-color:rgb(255, 255, 255, 0)\">meats,</span> <span style = \"background-color:rgb(255, 255, 255, 0)\">I've</span> <span style = \"background-color:rgb(255, 255, 255, 0)\">got</span> <span style = \"background-color:rgb(255, 255, 255, 0)\">my</span> <span style = \"background-color:rgb(255, 255, 255, 0)\">Anova</span> <span style = \"background-color:rgb(255, 255, 255, 0)\">sous</span> <span style = \"background-color:rgb(255, 255, 255, 0)\">vide,</span> <span style = \"background-color:rgb(255, 255, 255, 0)\">and</span> <span style = \"background-color:rgb(255, 255, 255, 0)\">a</span> <span style = \"background-color:rgb(255, 140, 0, 0.862)\">wireless</span> <span style = \"background-color:rgb(244, 164, 96, 0.25)\">meat</span> <span style = \"background-color:rgb(0, 255, 0)\">thermometer</span> <span style = \"background-color:rgb(255, 255, 255, 0)\">for</span> <span style = \"background-color:rgb(255, 255, 255, 0)\">the</span> <span style = \"background-color:rgb(255, 255, 255, 0)\">grill.</span> <span style = \"background-color:rgb(255, 255, 255, 0)\">Eventually,</span> <span style = \"background-color:rgb(255, 255, 255, 0)\">though,</span> <span style = \"background-color:rgb(255, 255, 255, 0)\">there</span> <span style = \"background-color:rgb(255, 255, 255, 0)\">was</span> <span style = \"background-color:rgb(255, 255, 255, 0)\">a</span> <span style = \"background-color:rgb(255, 255, 255, 0)\">sale,</span> <span style = \"background-color:rgb(255, 255, 255, 0)\">and</span> <span style = \"background-color:rgb(255, 255, 255, 0)\">I</span> <span style = \"background-color:rgb(255, 255, 255, 0)\">bought</span> <span style = \"background-color:rgb(255, 255, 255, 0)\">one.</span> <span style = \"background-color:rgb(255, 255, 255, 0)\">Now,</span> <span style = \"background-color:rgb(255, 255, 255, 0)\">I</span> <span style = \"background-color:rgb(255, 255, 255, 0)\">didn't</span> <span style = \"background-color:rgb(255, 255, 255, 0)\">really</span> <span style = \"background-color:rgb(255, 255, 255, 0)\">have</span> <span style = \"background-color:rgb(255, 255, 255, 0)\">any</span> <span style = \"background-color:rgb(178, 34, 34, 0.774)\">meaningful</span> <span style = \"background-color:rgb(255, 255, 255, 0)\">concept</span> <span style = \"background-color:rgb(255, 255, 255, 0)\">of</span> <span style = \"background-color:rgb(255, 255, 255, 0)\">the</span> <span style = \"background-color:rgb(255, 255, 255, 0)\">differences</span> <span style = \"background-color:rgb(255, 255, 255, 0)\">between</span> <span style = \"background-color:rgb(255, 255, 255, 0)\">the</span> <span style = \"background-color:rgb(255, 255, 255, 0)\">sizes</span> <span style = \"background-color:rgb(255, 255, 255, 0)\">and</span> <span style = \"background-color:rgb(255, 255, 255, 0)\">models.</span> <span style = \"background-color:rgb(255, 255, 255, 0)\">This</span> <span style = \"background-color:rgb(255, 255, 255, 0)\">8</span> <span style = \"background-color:rgb(244, 164, 96, 0.206)\">quart</span> <span style = \"background-color:rgb(255, 255, 255, 0)\">Duo</span> <span style = \"background-color:rgb(255, 255, 255, 0)\">Plus</span> <span style = \"background-color:rgb(255, 255, 255, 0)\">came</span> <span style = \"background-color:rgb(255, 255, 255, 0)\">up</span> <span style = \"background-color:rgb(255, 255, 255, 0)\">as</span> <span style = \"background-color:rgb(255, 255, 255, 0)\">a</span> <span style = \"background-color:rgb(255, 127, 80)\">daily</span> <span style = \"background-color:rgb(238, 232, 170, 0.304)\">deal</span> <span style = \"background-color:rgb(255, 255, 255, 0)\">thing,</span> <span style = \"background-color:rgb(255, 255, 255, 0)\">and</span> <span style = \"background-color:rgb(255, 255, 255, 0)\">I</span> <span style = \"background-color:rgb(255, 255, 255, 0)\">bought</span> <span style = \"background-color:rgb(255, 255, 255, 0)\">it.</span> <span style = \"background-color:rgb(255, 255, 255, 0)\">It</span> <span style = \"background-color:rgb(255, 255, 255, 0)\">was</span> <span style = \"background-color:rgb(255, 255, 255, 0)\">a</span> <span style = \"background-color:rgb(238, 232, 170, 0.16)\">good</span> <span style = \"background-color:rgb(255, 255, 255, 0)\">price.</span> <span style = \"background-color:rgb(255, 255, 255, 0)\">And</span> <span style = \"background-color:rgb(255, 255, 255, 0)\">you</span> <span style = \"background-color:rgb(255, 255, 255, 0)\">know,</span> <span style = \"background-color:rgb(255, 255, 255, 0)\">it</span> <span style = \"background-color:rgb(255, 255, 255, 0)\">can</span> <span style = \"background-color:rgb(255, 140, 0, 0.778)\">make</span> <span style = \"background-color:rgb(255, 255, 255, 0)\">like</span> <span style = \"background-color:rgb(255, 255, 255, 0)\">2</span> <span style = \"background-color:rgb(255, 255, 255, 0)\">gallons</span> <span style = \"background-color:rgb(255, 255, 255, 0)\">of</span> <span style = \"background-color:rgb(255, 255, 255, 0)\">yogurt</span> <span style = \"background-color:rgb(255, 255, 255, 0)\">or</span> <span style = \"background-color:rgb(244, 164, 96, 0.118)\">porridge</span> <span style = \"background-color:rgb(255, 255, 255, 0)\">or</span> <span style = \"background-color:rgb(255, 255, 255, 0)\">something.</span> <span style = \"background-color:rgb(255, 255, 255, 0)\">I'll</span> <span style = \"background-color:rgb(255, 255, 255, 0)\">be</span> <span style = \"background-color:rgb(255, 255, 255, 0)\">the</span> <span style = \"background-color:rgb(255, 255, 255, 0)\">first</span> <span style = \"background-color:rgb(255, 255, 255, 0)\">to</span> <span style = \"background-color:rgb(255, 140, 0, 0.785)\">admit</span> <span style = \"background-color:rgb(255, 255, 255, 0)\">that</span> <span style = \"background-color:rgb(255, 255, 255, 0)\">I</span> <span style = \"background-color:rgb(255, 255, 255, 0)\">didn't</span> <span style = \"background-color:rgb(178, 34, 34, 0.97)\">count</span> <span style = \"background-color:rgb(255, 255, 255, 0)\">on</span> <span style = \"background-color:rgb(255, 255, 255, 0)\">the</span> <span style = \"background-color:rgb(0, 100, 0, 0.794)\">sheer</span> <span style = \"background-color:rgb(238, 232, 170, 0.143)\">size</span> <span style = \"background-color:rgb(255, 255, 255, 0)\">of</span> <span style = \"background-color:rgb(255, 255, 255, 0)\">the</span> <span style = \"background-color:rgb(255, 255, 255, 0)\">thing.</span> <span style = \"background-color:rgb(255, 255, 255, 0)\">When</span> <span style = \"background-color:rgb(255, 255, 255, 0)\">I</span> <span style = \"background-color:rgb(255, 255, 255, 0)\">unboxed</span> <span style = \"background-color:rgb(255, 255, 255, 0)\">this</span> <span style = \"background-color:rgb(255, 255, 255, 0)\">8-quart</span> <span style = \"background-color:rgb(255, 255, 255, 0)\">monstrosity,</span> <span style = \"background-color:rgb(255, 255, 255, 0)\">I</span> <span style = \"background-color:rgb(255, 140, 0, 0.887)\">experienced</span> <span style = \"background-color:rgb(255, 255, 255, 0)\">a</span> <span style = \"background-color:rgb(255, 255, 255, 0)\">moment</span> <span style = \"background-color:rgb(255, 255, 255, 0)\">of</span> <span style = \"background-color:rgb(255, 255, 255, 0)\">trepidation,</span> <span style = \"background-color:rgb(255, 255, 255, 0)\">a</span> <span style = \"background-color:rgb(20, 20, 222, 0.851)\">fear</span> <span style = \"background-color:rgb(255, 255, 255, 0)\">of</span> <span style = \"background-color:rgb(20, 20, 222, 0.776)\">ridicule</span> <span style = \"background-color:rgb(255, 255, 255, 0)\">from</span> <span style = \"background-color:rgb(255, 255, 255, 0)\">my</span> <span style = \"background-color:rgb(255, 255, 255, 0)\">wife,</span> <span style = \"background-color:rgb(255, 255, 255, 0)\">who</span> <span style = \"background-color:rgb(255, 255, 255, 0)\">would</span> <span style = \"background-color:rgb(255, 255, 255, 0)\">point</span> <span style = \"background-color:rgb(255, 255, 255, 0)\">out</span> <span style = \"background-color:rgb(255, 255, 255, 0)\">that</span> <span style = \"background-color:rgb(255, 255, 255, 0)\">we</span> <span style = \"background-color:rgb(255, 255, 255, 0)\">don't</span> <span style = \"background-color:rgb(255, 255, 255, 0)\">need</span> <span style = \"background-color:rgb(255, 255, 255, 0)\">a</span> <span style = \"background-color:rgb(255, 255, 255, 0)\">really</span> <span style = \"background-color:rgb(255, 255, 255, 0)\">really</span> <span style = \"background-color:rgb(255, 0, 0, 0.781)\">ridiculously</span> <span style = \"background-color:rgb(238, 232, 170, 0.137)\">huge</span> <span style = \"background-color:rgb(128, 0, 0, 0.925)\">pressure</span> <span style = \"background-color:rgb(255, 255, 255, 0)\">cooker</span> <span style = \"background-color:rgb(255, 255, 255, 0)\">for</span> <span style = \"background-color:rgb(255, 255, 255, 0)\">just</span> <span style = \"background-color:rgb(255, 255, 255, 0)\">us.</span> <span style = \"background-color:rgb(255, 255, 255, 0)\">The</span> <span style = \"background-color:rgb(255, 255, 255, 0)\">first</span> <span style = \"background-color:rgb(169, 169, 169, 0.527)\">time</span> <span style = \"background-color:rgb(255, 255, 255, 0)\">each</span> <span style = \"background-color:rgb(255, 255, 255, 0)\">of</span> <span style = \"background-color:rgb(255, 255, 255, 0)\">us</span> <span style = \"background-color:rgb(255, 255, 255, 0)\">used</span> <span style = \"background-color:rgb(255, 255, 255, 0)\">it,</span> <span style = \"background-color:rgb(255, 255, 255, 0)\">we</span> <span style = \"background-color:rgb(255, 255, 255, 0)\">felt</span> <span style = \"background-color:rgb(255, 255, 255, 0)\">what</span> <span style = \"background-color:rgb(255, 255, 255, 0)\">I'm</span> <span style = \"background-color:rgb(255, 140, 0, 0.872)\">sure</span> <span style = \"background-color:rgb(255, 255, 255, 0)\">every</span> <span style = \"background-color:rgb(255, 255, 255, 0)\">other</span> <span style = \"background-color:rgb(128, 0, 0, 0.925)\">pressure</span> <span style = \"background-color:rgb(255, 255, 255, 0)\">cooker</span> <span style = \"background-color:rgb(255, 255, 0, 0.442)\">rookie</span> <span style = \"background-color:rgb(255, 255, 255, 0)\">feels</span> <span style = \"background-color:rgb(255, 255, 255, 0)\">at</span> <span style = \"background-color:rgb(255, 255, 255, 0)\">first-the</span> <span style = \"background-color:rgb(255, 255, 255, 0)\">crippling</span> <span style = \"background-color:rgb(20, 20, 222, 0.851)\">fear</span> <span style = \"background-color:rgb(255, 255, 255, 0)\">that</span> <span style = \"background-color:rgb(255, 255, 255, 0)\">you're</span> <span style = \"background-color:rgb(255, 255, 255, 0)\">about</span> <span style = \"background-color:rgb(255, 255, 255, 0)\">to</span> <span style = \"background-color:rgb(123, 104, 238, 0.181)\">die</span> <span style = \"background-color:rgb(255, 255, 255, 0)\">in</span> <span style = \"background-color:rgb(255, 255, 255, 0)\">a</span> <span style = \"background-color:rgb(106, 90, 205, 0.434)\">horrific</span> <span style = \"background-color:rgb(0, 100, 0, 0.762)\">high-pressure</span> <span style = \"background-color:rgb(169, 169, 169, 0.601)\">home</span> <span style = \"background-color:rgb(255, 255, 255, 0)\">explosion,</span> <span style = \"background-color:rgb(255, 255, 255, 0)\">and</span> <span style = \"background-color:rgb(255, 255, 255, 0)\">that</span> <span style = \"background-color:rgb(255, 255, 255, 0)\">your</span> <span style = \"background-color:rgb(238, 232, 170, 0.291)\">family</span> <span style = \"background-color:rgb(255, 255, 255, 0)\">will</span> <span style = \"background-color:rgb(255, 255, 255, 0)\">always</span> <span style = \"background-color:rgb(255, 255, 255, 0)\">be</span> <span style = \"background-color:rgb(20, 20, 222, 0.852)\">embarrassed</span> <span style = \"background-color:rgb(255, 255, 255, 0)\">to</span> <span style = \"background-color:rgb(178, 34, 34, 0.934)\">explain</span> <span style = \"background-color:rgb(255, 255, 255, 0)\">that</span> <span style = \"background-color:rgb(255, 255, 255, 0)\">they</span> <span style = \"background-color:rgb(255, 255, 255, 0)\">were</span> <span style = \"background-color:rgb(0, 255, 0)\">related</span> <span style = \"background-color:rgb(255, 255, 255, 0)\">to</span> <span style = \"background-color:rgb(255, 255, 255, 0)\">one</span> <span style = \"background-color:rgb(255, 255, 255, 0)\">of</span> <span style = \"background-color:rgb(255, 255, 255, 0)\">_those_</span> <span style = \"background-color:rgb(255, 255, 255, 0)\">statistics.</span> <span style = \"background-color:rgb(255, 255, 255, 0)\">And</span> <span style = \"background-color:rgb(255, 255, 255, 0)\">it</span> <span style = \"background-color:rgb(255, 255, 255, 0)\">didn't</span> <span style = \"background-color:rgb(106, 90, 205, 0.525)\">take</span> <span style = \"background-color:rgb(255, 127, 80)\">long</span> <span style = \"background-color:rgb(255, 255, 255, 0)\">before</span> <span style = \"background-color:rgb(255, 255, 255, 0)\">we</span> <span style = \"background-color:rgb(255, 255, 255, 0)\">realized</span> <span style = \"background-color:rgb(255, 255, 255, 0)\">(my</span> <span style = \"background-color:rgb(178, 34, 34, 0.809)\">wife</span> <span style = \"background-color:rgb(255, 255, 255, 0)\">especially,</span> <span style = \"background-color:rgb(255, 255, 255, 0)\">since</span> <span style = \"background-color:rgb(255, 255, 255, 0)\">she</span> <span style = \"background-color:rgb(255, 255, 255, 0)\">does</span> <span style = \"background-color:rgb(255, 255, 255, 0)\">a</span> <span style = \"background-color:rgb(255, 255, 255, 0)\">lot</span> <span style = \"background-color:rgb(255, 255, 255, 0)\">of</span> <span style = \"background-color:rgb(255, 255, 255, 0)\">the</span> <span style = \"background-color:rgb(255, 255, 255, 0)\">cooking)</span> <span style = \"background-color:rgb(255, 255, 255, 0)\">how</span> <span style = \"background-color:rgb(240, 230, 140, 0.792)\">fantastic</span> <span style = \"background-color:rgb(255, 255, 255, 0)\">this</span> <span style = \"background-color:rgb(128, 0, 0, 0.959)\">giant</span> <span style = \"background-color:rgb(255, 255, 0, 0.411)\">culinary</span> <span style = \"background-color:rgb(255, 255, 255, 0)\">autoclave</span> <span style = \"background-color:rgb(255, 255, 255, 0)\">really</span> <span style = \"background-color:rgb(255, 255, 255, 0)\">is.</span> <span style = \"background-color:rgb(255, 255, 255, 0)\">Cook</span> <span style = \"background-color:rgb(255, 255, 255, 0)\">an</span> <span style = \"background-color:rgb(255, 255, 255, 0)\">entire</span> <span style = \"background-color:rgb(255, 255, 255, 0)\">dinner</span> <span style = \"background-color:rgb(255, 255, 255, 0)\">of</span> <span style = \"background-color:rgb(255, 140, 0, 0.856)\">roast</span> <span style = \"background-color:rgb(0, 128, 0)\">chicken</span> <span style = \"background-color:rgb(255, 255, 255, 0)\">with</span> <span style = \"background-color:rgb(255, 255, 255, 0)\">red</span> <span style = \"background-color:rgb(255, 255, 255, 0)\">beans</span> <span style = \"background-color:rgb(255, 255, 255, 0)\">&</span> <span style = \"background-color:rgb(189, 183, 107, 0.148)\">rice</span> <span style = \"background-color:rgb(255, 255, 255, 0)\">in</span> <span style = \"background-color:rgb(255, 255, 255, 0)\">one</span> <span style = \"background-color:rgb(255, 255, 255, 0)\">go?</span> <span style = \"background-color:rgb(255, 255, 255, 0)\">Done.</span> <span style = \"background-color:rgb(255, 255, 255, 0)\">Steam</span> <span style = \"background-color:rgb(255, 255, 255, 0)\">a</span> <span style = \"background-color:rgb(255, 255, 255, 0)\">whole</span> <span style = \"background-color:rgb(178, 34, 34, 0.894)\">mess</span> <span style = \"background-color:rgb(255, 255, 255, 0)\">'o</span> <span style = \"background-color:rgb(255, 255, 255, 0)\">veggies</span> <span style = \"background-color:rgb(255, 255, 255, 0)\">when</span> <span style = \"background-color:rgb(255, 255, 255, 0)\">some</span> <span style = \"background-color:rgb(169, 169, 169, 0.527)\">friends</span> <span style = \"background-color:rgb(255, 215, 0, 0.894)\">show</span> <span style = \"background-color:rgb(255, 255, 255, 0)\">up</span> <span style = \"background-color:rgb(255, 255, 255, 0)\">with</span> <span style = \"background-color:rgb(255, 255, 255, 0)\">their</span> <span style = \"background-color:rgb(123, 104, 238, 0.165)\">gaggle</span> <span style = \"background-color:rgb(255, 255, 255, 0)\">of</span> <span style = \"background-color:rgb(255, 140, 0, 0.824)\">kids</span> <span style = \"background-color:rgb(255, 255, 255, 0)\">for</span> <span style = \"background-color:rgb(255, 255, 255, 0)\">dinner?</span> <span style = \"background-color:rgb(255, 255, 255, 0)\">Easy.</span> <span style = \"background-color:rgb(255, 255, 255, 0)\">Meatballs.</span> <span style = \"background-color:rgb(255, 255, 255, 0)\">Tamales.</span> <span style = \"background-color:rgb(255, 255, 255, 0)\">Artichokes.</span> <span style = \"background-color:rgb(255, 255, 255, 0)\">Corn</span> <span style = \"background-color:rgb(255, 255, 255, 0)\">on</span> <span style = \"background-color:rgb(255, 255, 255, 0)\">the</span> <span style = \"background-color:rgb(255, 255, 255, 0)\">cob.</span> <span style = \"background-color:rgb(255, 255, 255, 0)\">And</span> <span style = \"background-color:rgb(255, 255, 255, 0)\">there's</span> <span style = \"background-color:rgb(255, 255, 255, 0)\">just</span> <span style = \"background-color:rgb(255, 255, 255, 0)\">a</span> <span style = \"background-color:rgb(255, 255, 255, 0)\">single</span> <span style = \"background-color:rgb(255, 255, 255, 0)\">pot</span> <span style = \"background-color:rgb(255, 255, 255, 0)\">to</span> <span style = \"background-color:rgb(20, 20, 222, 0.809)\">scrub</span> <span style = \"background-color:rgb(255, 255, 255, 0)\">at</span> <span style = \"background-color:rgb(255, 255, 255, 0)\">the</span> <span style = \"background-color:rgb(255, 255, 255, 0)\">end!</span> <span style = \"background-color:rgb(255, 255, 255, 0)\">Last</span> <span style = \"background-color:rgb(255, 255, 255, 0)\">night</span> <span style = \"background-color:rgb(255, 255, 255, 0)\">I</span> <span style = \"background-color:rgb(255, 255, 255, 0)\">think</span> <span style = \"background-color:rgb(255, 255, 255, 0)\">I</span> <span style = \"background-color:rgb(178, 34, 34, 0.858)\">reached</span> <span style = \"background-color:rgb(255, 255, 255, 0)\">my</span> <span style = \"background-color:rgb(255, 255, 255, 0)\">true</span> <span style = \"background-color:rgb(20, 20, 222, 0.774)\">peak</span> <span style = \"background-color:rgb(255, 255, 255, 0)\">of</span> <span style = \"background-color:rgb(128, 0, 0, 0.959)\">giant</span> <span style = \"background-color:rgb(255, 255, 255, 0)\">Instant</span> <span style = \"background-color:rgb(255, 255, 255, 0)\">Pot</span> <span style = \"background-color:rgb(255, 255, 255, 0)\">appreciation.</span> <span style = \"background-color:rgb(255, 255, 255, 0)\">I</span> <span style = \"background-color:rgb(255, 255, 255, 0)\">cooked</span> <span style = \"background-color:rgb(255, 255, 255, 0)\">two</span> <span style = \"background-color:rgb(255, 255, 255, 0)\">racks</span> <span style = \"background-color:rgb(255, 255, 255, 0)\">of</span> <span style = \"background-color:rgb(255, 255, 255, 0)\">BBQ</span> <span style = \"background-color:rgb(123, 104, 238, 0.128)\">pork</span> <span style = \"background-color:rgb(255, 255, 255, 0)\">back</span> <span style = \"background-color:rgb(255, 255, 255, 0)\">ribs.</span> <span style = \"background-color:rgb(255, 255, 255, 0)\">I</span> <span style = \"background-color:rgb(255, 127, 80)\">thought</span> <span style = \"background-color:rgb(255, 255, 255, 0)\">about</span> <span style = \"background-color:rgb(255, 255, 255, 0)\">just</span> <span style = \"background-color:rgb(255, 255, 255, 0)\">taking</span> <span style = \"background-color:rgb(255, 255, 255, 0)\">the</span> <span style = \"background-color:rgb(244, 164, 96, 0.25)\">meat</span> <span style = \"background-color:rgb(255, 255, 255, 0)\">to</span> <span style = \"background-color:rgb(255, 255, 255, 0)\">my</span> <span style = \"background-color:rgb(255, 255, 255, 0)\">dad's</span> <span style = \"background-color:rgb(238, 232, 170, 0.292)\">house</span> <span style = \"background-color:rgb(255, 255, 255, 0)\">and</span> <span style = \"background-color:rgb(255, 255, 255, 0)\">letting</span> <span style = \"background-color:rgb(255, 255, 255, 0)\">him</span> <span style = \"background-color:rgb(255, 255, 255, 0)\">do</span> <span style = \"background-color:rgb(255, 255, 255, 0)\">them</span> <span style = \"background-color:rgb(255, 255, 255, 0)\">in</span> <span style = \"background-color:rgb(255, 255, 255, 0)\">the</span> <span style = \"background-color:rgb(255, 255, 255, 0)\">smoker.</span> <span style = \"background-color:rgb(255, 255, 255, 0)\">But</span> <span style = \"background-color:rgb(255, 255, 255, 0)\">that</span> <span style = \"background-color:rgb(255, 255, 255, 0)\">would</span> <span style = \"background-color:rgb(255, 255, 255, 0)\">have</span> <span style = \"background-color:rgb(255, 255, 255, 0)\">taken</span> <span style = \"background-color:rgb(255, 255, 255, 0)\">like</span> <span style = \"background-color:rgb(255, 255, 255, 0)\">10</span> <span style = \"background-color:rgb(255, 255, 255, 0)\">hours!</span> <span style = \"background-color:rgb(255, 255, 255, 0)\">I</span> <span style = \"background-color:rgb(255, 255, 255, 0)\">could</span> <span style = \"background-color:rgb(255, 255, 255, 0)\">have</span> <span style = \"background-color:rgb(255, 255, 255, 0)\">tried</span> <span style = \"background-color:rgb(255, 255, 255, 0)\">the</span> <span style = \"background-color:rgb(255, 255, 255, 0)\">sous</span> <span style = \"background-color:rgb(255, 255, 255, 0)\">vide,</span> <span style = \"background-color:rgb(255, 255, 255, 0)\">but</span> <span style = \"background-color:rgb(255, 255, 255, 0)\">that</span> <span style = \"background-color:rgb(255, 255, 255, 0)\">would</span> <span style = \"background-color:rgb(255, 255, 255, 0)\">required</span> <span style = \"background-color:rgb(255, 255, 255, 0)\">me</span> <span style = \"background-color:rgb(255, 255, 255, 0)\">to</span> <span style = \"background-color:rgb(123, 104, 238, 0.154)\">cut</span> <span style = \"background-color:rgb(255, 255, 255, 0)\">up</span> <span style = \"background-color:rgb(255, 255, 255, 0)\">the</span> <span style = \"background-color:rgb(255, 255, 255, 0)\">ribs</span> <span style = \"background-color:rgb(255, 255, 255, 0)\">into</span> <span style = \"background-color:rgb(255, 255, 255, 0)\">ziploc-sized</span> <span style = \"background-color:rgb(255, 255, 255, 0)\">portions,</span> <span style = \"background-color:rgb(255, 255, 255, 0)\">to</span> <span style = \"background-color:rgb(255, 140, 0, 0.778)\">come</span> <span style = \"background-color:rgb(255, 255, 255, 0)\">up</span> <span style = \"background-color:rgb(255, 255, 255, 0)\">with</span> <span style = \"background-color:rgb(255, 255, 255, 0)\">a</span> <span style = \"background-color:rgb(255, 255, 255, 0)\">way</span> <span style = \"background-color:rgb(255, 255, 255, 0)\">to</span> <span style = \"background-color:rgb(95, 158, 160, 0.199)\">cook</span> <span style = \"background-color:rgb(255, 255, 255, 0)\">that</span> <span style = \"background-color:rgb(255, 255, 255, 0)\">much</span> <span style = \"background-color:rgb(244, 164, 96, 0.25)\">meat</span> <span style = \"background-color:rgb(178, 34, 34, 0.823)\">together</span> <span style = \"background-color:rgb(255, 255, 255, 0)\">in</span> <span style = \"background-color:rgb(255, 255, 255, 0)\">a</span> <span style = \"background-color:rgb(255, 255, 255, 0)\">bigger</span> <span style = \"background-color:rgb(20, 20, 222, 0.936)\">cooler</span> <span style = \"background-color:rgb(255, 255, 255, 0)\">than</span> <span style = \"background-color:rgb(255, 255, 255, 0)\">I</span> <span style = \"background-color:rgb(255, 255, 255, 0)\">usually</span> <span style = \"background-color:rgb(255, 255, 255, 0)\">use,</span> <span style = \"background-color:rgb(255, 255, 255, 0)\">and</span> <span style = \"background-color:rgb(255, 255, 255, 0)\">to</span> <span style = \"background-color:rgb(255, 255, 255, 0)\">then</span> <span style = \"background-color:rgb(0, 100, 0, 0.78)\">clean</span> <span style = \"background-color:rgb(255, 255, 255, 0)\">up</span> <span style = \"background-color:rgb(255, 255, 255, 0)\">the</span> <span style = \"background-color:rgb(178, 34, 34, 0.894)\">mess</span> <span style = \"background-color:rgb(255, 255, 255, 0)\">and</span> <span style = \"background-color:rgb(95, 158, 160, 0.199)\">cook</span> <span style = \"background-color:rgb(255, 255, 255, 0)\">for</span> <span style = \"background-color:rgb(255, 255, 255, 0)\">at</span> <span style = \"background-color:rgb(255, 255, 255, 0)\">least</span> <span style = \"background-color:rgb(255, 255, 255, 0)\">a</span> <span style = \"background-color:rgb(255, 255, 255, 0)\">few</span> <span style = \"background-color:rgb(255, 255, 255, 0)\">hours</span> <span style = \"background-color:rgb(255, 255, 255, 0)\">to</span> <span style = \"background-color:rgb(255, 255, 255, 0)\">get</span> <span style = \"background-color:rgb(255, 255, 255, 0)\">a</span> <span style = \"background-color:rgb(238, 232, 170, 0.16)\">good</span> <span style = \"background-color:rgb(255, 255, 255, 0)\">texture.</span> <span style = \"background-color:rgb(255, 255, 255, 0)\">And</span> <span style = \"background-color:rgb(255, 255, 255, 0)\">who</span> <span style = \"background-color:rgb(255, 255, 255, 0)\">has</span> <span style = \"background-color:rgb(255, 255, 255, 0)\">that</span> <span style = \"background-color:rgb(255, 255, 0)\">kind</span> <span style = \"background-color:rgb(255, 255, 255, 0)\">of</span> <span style = \"background-color:rgb(169, 169, 169, 0.527)\">time</span> <span style = \"background-color:rgb(255, 255, 255, 0)\">when</span> <span style = \"background-color:rgb(255, 255, 255, 0)\">there's</span> <span style = \"background-color:rgb(255, 127, 80)\">football</span> <span style = \"background-color:rgb(255, 255, 255, 0)\">to</span> <span style = \"background-color:rgb(255, 255, 255, 0)\">be</span> <span style = \"background-color:rgb(255, 255, 255, 0)\">watched</span> <span style = \"background-color:rgb(255, 255, 255, 0)\">and</span> <span style = \"background-color:rgb(255, 255, 255, 0)\">naps</span> <span style = \"background-color:rgb(255, 255, 255, 0)\">to</span> <span style = \"background-color:rgb(255, 255, 255, 0)\">be</span> <span style = \"background-color:rgb(255, 255, 255, 0)\">taken?</span> <span style = \"background-color:rgb(255, 255, 255, 0)\">Want</span> <span style = \"background-color:rgb(255, 255, 255, 0)\">to</span> <span style = \"background-color:rgb(106, 90, 205, 0.525)\">know</span> <span style = \"background-color:rgb(255, 255, 255, 0)\">how</span> <span style = \"background-color:rgb(255, 127, 80)\">long</span> <span style = \"background-color:rgb(255, 255, 255, 0)\">I</span> <span style = \"background-color:rgb(255, 255, 255, 0)\">spent</span> <span style = \"background-color:rgb(255, 140, 0, 0.835)\">preparing</span> <span style = \"background-color:rgb(255, 255, 255, 0)\">this</span> <span style = \"background-color:rgb(244, 164, 96, 0.198)\">meal</span> <span style = \"background-color:rgb(255, 255, 255, 0)\">in</span> <span style = \"background-color:rgb(255, 255, 255, 0)\">the</span> <span style = \"background-color:rgb(255, 255, 255, 0)\">Instant</span> <span style = \"background-color:rgb(255, 255, 255, 0)\">Pot?</span> <span style = \"background-color:rgb(255, 255, 255, 0)\">-</span> <span style = \"background-color:rgb(255, 255, 255, 0)\">Five</span> <span style = \"background-color:rgb(255, 255, 255, 0)\">minutes</span> <span style = \"background-color:rgb(255, 255, 255, 0)\">unwrapping</span> <span style = \"background-color:rgb(255, 255, 255, 0)\">and</span> <span style = \"background-color:rgb(255, 255, 255, 0)\">rubbing</span> <span style = \"background-color:rgb(255, 255, 255, 0)\">the</span> <span style = \"background-color:rgb(244, 164, 96, 0.25)\">meat</span> <span style = \"background-color:rgb(255, 255, 255, 0)\">and</span> <span style = \"background-color:rgb(255, 140, 0, 0.804)\">stuffing</span> <span style = \"background-color:rgb(255, 255, 255, 0)\">it</span> <span style = \"background-color:rgb(255, 255, 255, 0)\">all</span> <span style = \"background-color:rgb(255, 255, 255, 0)\">into</span> <span style = \"background-color:rgb(255, 255, 255, 0)\">my</span> <span style = \"background-color:rgb(255, 255, 255, 0)\">countertop</span> <span style = \"background-color:rgb(255, 255, 255, 0)\">sauna.</span> <span style = \"background-color:rgb(255, 255, 255, 0)\">I'll</span> <span style = \"background-color:rgb(0, 0, 255)\">leave</span> <span style = \"background-color:rgb(255, 255, 255, 0)\">the</span> <span style = \"background-color:rgb(255, 255, 255, 0)\">visualization</span> <span style = \"background-color:rgb(255, 255, 255, 0)\">to</span> <span style = \"background-color:rgb(255, 255, 255, 0)\">you.</span> <span style = \"background-color:rgb(255, 255, 255, 0)\">-</span> <span style = \"background-color:rgb(255, 255, 255, 0)\">Twenty</span> <span style = \"background-color:rgb(255, 255, 255, 0)\">minutes</span> <span style = \"background-color:rgb(255, 255, 255, 0)\">as</span> <span style = \"background-color:rgb(255, 255, 255, 0)\">the</span> <span style = \"background-color:rgb(255, 255, 255, 0)\">Instant</span> <span style = \"background-color:rgb(255, 255, 255, 0)\">Pot</span> <span style = \"background-color:rgb(255, 255, 255, 0)\">got</span> <span style = \"background-color:rgb(255, 255, 255, 0)\">up</span> <span style = \"background-color:rgb(255, 255, 255, 0)\">to</span> <span style = \"background-color:rgb(255, 140, 0, 0.802)\">cooking</span> <span style = \"background-color:rgb(255, 255, 255, 0)\">pressure.</span> <span style = \"background-color:rgb(255, 255, 255, 0)\">-</span> <span style = \"background-color:rgb(255, 255, 255, 0)\">25</span> <span style = \"background-color:rgb(255, 255, 255, 0)\">minutes</span> <span style = \"background-color:rgb(255, 140, 0, 0.802)\">cooking</span> <span style = \"background-color:rgb(255, 255, 255, 0)\">+</span> <span style = \"background-color:rgb(255, 255, 255, 0)\">2</span> <span style = \"background-color:rgb(255, 255, 255, 0)\">minutes</span> <span style = \"background-color:rgb(255, 255, 255, 0)\">decompressing</span> <span style = \"background-color:rgb(255, 255, 255, 0)\">(and</span> <span style = \"background-color:rgb(255, 255, 255, 0)\">filling</span> <span style = \"background-color:rgb(255, 255, 255, 0)\">the</span> <span style = \"background-color:rgb(238, 232, 170, 0.292)\">house</span> <span style = \"background-color:rgb(255, 255, 255, 0)\">with</span> <span style = \"background-color:rgb(244, 164, 96, 0.189)\">delicious</span> <span style = \"background-color:rgb(255, 255, 255, 0)\">porky</span> <span style = \"background-color:rgb(255, 255, 255, 0)\">aroma)</span> <span style = \"background-color:rgb(255, 255, 255, 0)\">-</span> <span style = \"background-color:rgb(255, 255, 255, 0)\">Five</span> <span style = \"background-color:rgb(255, 255, 255, 0)\">minutes</span> <span style = \"background-color:rgb(238, 232, 170, 0.228)\">painting</span> <span style = \"background-color:rgb(255, 255, 255, 0)\">on</span> <span style = \"background-color:rgb(255, 255, 255, 0)\">some</span> <span style = \"background-color:rgb(244, 164, 96, 0.128)\">sauce</span> <span style = \"background-color:rgb(255, 255, 255, 0)\">and</span> <span style = \"background-color:rgb(255, 255, 255, 0)\">letting</span> <span style = \"background-color:rgb(255, 255, 255, 0)\">everything</span> <span style = \"background-color:rgb(255, 140, 0, 0.834)\">sizzle</span> <span style = \"background-color:rgb(255, 255, 255, 0)\">on</span> <span style = \"background-color:rgb(255, 255, 255, 0)\">the</span> <span style = \"background-color:rgb(255, 255, 255, 0)\">grill.</span> <span style = \"background-color:rgb(255, 255, 255, 0)\">Seriously.</span> <span style = \"background-color:rgb(255, 255, 255, 0)\">Delicious,</span> <span style = \"background-color:rgb(255, 140, 0, 0.883)\">perfectly</span> <span style = \"background-color:rgb(255, 255, 255, 0)\">cooked</span> <span style = \"background-color:rgb(255, 255, 255, 0)\">barbecue</span> <span style = \"background-color:rgb(255, 255, 255, 0)\">ribs-enough</span> <span style = \"background-color:rgb(255, 255, 255, 0)\">to</span> <span style = \"background-color:rgb(255, 255, 255, 0)\">feed</span> <span style = \"background-color:rgb(255, 255, 255, 0)\">at</span> <span style = \"background-color:rgb(255, 255, 255, 0)\">least</span> <span style = \"background-color:rgb(255, 255, 255, 0)\">eight</span> <span style = \"background-color:rgb(255, 255, 255, 0)\">people-ready</span> <span style = \"background-color:rgb(255, 255, 255, 0)\">in</span> <span style = \"background-color:rgb(255, 255, 255, 0)\">about</span> <span style = \"background-color:rgb(255, 255, 255, 0)\">an</span> <span style = \"background-color:rgb(255, 255, 255, 0)\">hour.</span> <span style = \"background-color:rgb(255, 255, 255, 0)\">So</span> <span style = \"background-color:rgb(255, 255, 255, 0)\">yeah.</span> <span style = \"background-color:rgb(255, 255, 255, 0)\">I'm</span> <span style = \"background-color:rgb(255, 255, 255, 0)\">a</span> <span style = \"background-color:rgb(255, 255, 255, 0)\">fan.</span> <span style = \"background-color:rgb(255, 255, 255, 0)\">And</span> <span style = \"background-color:rgb(255, 255, 255, 0)\">even</span> <span style = \"background-color:rgb(255, 255, 255, 0)\">though</span> <span style = \"background-color:rgb(255, 255, 255, 0)\">it's</span> <span style = \"background-color:rgb(255, 255, 255, 0)\">comically</span> <span style = \"background-color:rgb(244, 164, 96, 0.15)\">large</span> <span style = \"background-color:rgb(255, 255, 255, 0)\">when</span> <span style = \"background-color:rgb(255, 255, 255, 0)\">we're</span> <span style = \"background-color:rgb(255, 255, 255, 0)\">just</span> <span style = \"background-color:rgb(255, 140, 0, 0.802)\">cooking</span> <span style = \"background-color:rgb(255, 255, 255, 0)\">for</span> <span style = \"background-color:rgb(255, 255, 255, 0)\">ourselves,</span> <span style = \"background-color:rgb(255, 255, 255, 0)\">I'm</span> <span style = \"background-color:rgb(255, 140, 0, 0.787)\">glad</span> <span style = \"background-color:rgb(255, 255, 255, 0)\">I</span> <span style = \"background-color:rgb(255, 255, 255, 0)\">got</span> <span style = \"background-color:rgb(255, 255, 255, 0)\">the</span> <span style = \"background-color:rgb(255, 255, 255, 0)\">8</span> <span style = \"background-color:rgb(255, 255, 255, 0)\">qt</span> <span style = \"background-color:rgb(255, 255, 0, 0.475)\">monster</span> <span style = \"background-color:rgb(255, 255, 255, 0)\">after</span> <span style = \"background-color:rgb(255, 255, 255, 0)\">all.</span> <span style = \"background-color:rgb(255, 255, 255, 0)\">I</span> <span style = \"background-color:rgb(255, 255, 255, 0)\">haven't</span> <span style = \"background-color:rgb(255, 255, 255, 0)\">even</span> <span style = \"background-color:rgb(255, 255, 255, 0)\">explored</span> <span style = \"background-color:rgb(255, 255, 255, 0)\">all</span> <span style = \"background-color:rgb(255, 255, 255, 0)\">of</span> <span style = \"background-color:rgb(255, 255, 255, 0)\">the</span> <span style = \"background-color:rgb(128, 0, 0, 0.919)\">fancy</span> <span style = \"background-color:rgb(255, 255, 255, 0)\">other</span> <span style = \"background-color:rgb(255, 255, 255, 0)\">options</span> <span style = \"background-color:rgb(255, 255, 255, 0)\">and</span> <span style = \"background-color:rgb(255, 255, 255, 0)\">space-age</span> <span style = \"background-color:rgb(255, 255, 255, 0)\">things</span> <span style = \"background-color:rgb(255, 255, 255, 0)\">it</span> <span style = \"background-color:rgb(255, 255, 255, 0)\">can</span> <span style = \"background-color:rgb(255, 255, 255, 0)\">do.</span> <span style = \"background-color:rgb(255, 255, 255, 0)\">But</span> <span style = \"background-color:rgb(255, 255, 255, 0)\">I</span> <span style = \"background-color:rgb(255, 255, 255, 0)\">will.</span> <span style = \"background-color:rgb(255, 255, 255, 0)\">If</span> <span style = \"background-color:rgb(255, 255, 255, 0)\">only</span> <span style = \"background-color:rgb(255, 255, 255, 0)\">because</span> <span style = \"background-color:rgb(255, 255, 255, 0)\">I</span> <span style = \"background-color:rgb(255, 255, 255, 0)\">can.</span> <span style = \"background-color:rgb(255, 255, 255, 0)\">Thanks,</span> <span style = \"background-color:rgb(255, 255, 255, 0)\">Instant</span> <span style = \"background-color:rgb(255, 255, 255, 0)\">Pot!</span> <span style = \"background-color:rgb(255, 255, 255, 0)\"><insert</span> <span style = \"background-color:rgb(255, 140, 0, 0.871)\">smile</span> <span style = \"background-color:rgb(255, 255, 255, 0)\">with</span> <span style = \"background-color:rgb(20, 20, 222, 0.982)\">tooth</span> <span style = \"background-color:rgb(238, 232, 170, 0.122)\">sparkle</span> <span style = \"background-color:rgb(255, 255, 255, 0)\">and</span> <span style = \"background-color:rgb(255, 255, 255, 0)\">\"ding\"</span> <span style = \"background-color:rgb(255, 255, 255, 0)\">sound></span><br>"
      ],
      "text/plain": [
       "<IPython.core.display.HTML object>"
      ]
     },
     "metadata": {},
     "output_type": "display_data"
    },
    {
     "name": "stdout",
     "output_type": "stream",
     "text": [
      "599\n",
      "[0, 0, 0, 0, 0, '#ecstasy', 0, 0, 0, 0, 0, 0, 0, 0, 0, 0, 2, 0, 0, 0, 0, 0, 0, 0, 0, 0, '#responsiveness', 0, 0, 0, 0, 0, '#contentment', 0, 0, 0, 0, 0, '#grief', '#melancholy', 0, 0, 0, 0, 0, 0, '#rage', 0, 0, '#ecstasy', 0, 0, 0, 0, 0, 0, 0, 0, 0, 0, '#ecstasy', '#contentment', 8, 0, 0, 0, 0, 0, 0, 0, 0, 0, 0, 0, 0, 0, 0, 0, 0, 0, 0, 0, '#enthusiasm', 0, 0, 0, 0, 0, 0, 0, 0, 0, 0, 0, '#contentment', 0, 0, 0, 0, 0, 0, 2, '#serenity', 0, 0, 0, 0, 0, 0, 0, 0, '#serenity', 0, 0, 0, 0, 0, 0, '#ecstasy', 0, 0, 0, 0, 0, 0, '#contentment', 0, 0, 0, 0, 0, 0, 0, '#ecstasy', 0, 0, 0, '#enthusiasm', 0, 0, '#terror', '#serenity', 0, 0, 0, 0, 0, 0, 0, 0, 0, 0, '#ecstasy', 0, 0, 0, 0, 0, '#grief', 0, '#grief', 0, 0, 0, 0, 0, 0, 0, 0, 0, 0, 0, 0, 0, 0, '#anger', '#serenity', '#rage', 0, 0, 0, 0, 0, 0, '#calmness', 0, 0, 0, 0, 0, 0, 0, 0, 0, '#ecstasy', 0, 0, '#rage', 0, '#joy', 0, 0, 0, 0, '#grief', 0, 0, 0, 0, '#melancholy', 0, 0, '#sadness', '#terror', '#calmness', 0, 0, 0, 0, '#serenity', 0, 0, 0, '#grief', 0, '#enthusiasm', 0, 0, 0, 8, 0, 0, 0, 0, 0, 0, 0, 0, '#sadness', 2, 0, 0, 0, 0, '#enthusiasm', 0, 0, 0, 0, 0, 0, 0, 0, 0, 0, '#bliss', 0, '#rage', '#joy', 0, 0, 0, 0, 0, 0, 0, 0, '#ecstasy', 4, 0, 0, 0, 0, '#anxiety', 0, 0, 0, 0, 0, 0, 0, '#enthusiasm', 0, 0, 0, 0, '#calmness', '#delight', 0, 0, 0, '#melancholy', 0, '#ecstasy', 0, 0, 0, 0, 0, 0, 0, 0, 0, 0, 0, 0, 0, 0, 0, 0, 0, '#grief', 0, 0, 0, 0, 0, 0, 0, 0, '#enthusiasm', 0, 0, '#grief', 0, '#rage', 0, 0, 0, 0, 0, 0, 0, 0, 0, '#melancholy', 0, 0, 0, 2, 0, 0, 0, 0, '#contentment', 0, 0, 0, '#serenity', 0, 0, 0, 0, 0, 0, 0, 0, 0, 0, 0, 0, 0, 0, 0, 0, 0, 0, 0, 0, 0, 0, 0, 0, 0, 0, 0, 0, 0, '#melancholy', 0, 0, 0, 0, 0, 0, 0, '#ecstasy', 0, 0, 0, 0, 0, '#responsiveness', 0, 0, '#contentment', '#enthusiasm', 0, 0, 0, '#grief', 0, 0, 0, 0, 0, 0, 0, '#terror', 0, 0, '#enthusiasm', 0, '#responsiveness', 0, 0, 0, 0, 0, 0, 0, 0, 0, '#serenity', 0, 0, 0, 0, 0, 5, 0, '#calmness', 0, 0, 2, 0, 0, 0, 0, 0, 0, 0, 0, 0, 0, '#sadness', 0, 2, 0, 0, '#ecstasy', 0, '#contentment', 0, 0, 0, 0, 0, 0, 0, 0, 0, 0, 0, '#contentment', 0, '#ecstasy', 0, 0, 0, 0, 0, 0, 0, 6, 0, 0, 0, 0, 0, 0, 0, 0, 0, 0, 0, 0, 0, 0, '#ecstasy', 0, 0, 0, 0, '#ecstasy', 0, 0, 0, 0, 0, 0, 0, '#serenity', 0, '#contentment', 0, 0, 0, 0, 0, '#serenity', 0, 0, '#contentment', 0, 0, 0, '#ecstasy', 0, 0, 0, 0, 0, '#ecstasy', 0, 0, 0, 0, 0, 0, 0, 0, 0, 0, 0, 0, 0, 0, 0, 0, 0, 0, 0, 0, 0, 0, 0, '#contentment', 0, 0, 0, '#ecstasy', 0, 0, 0, '#ecstasy', 0, 0, 0, 0, 0, '#joy', 0, 0, 0, 0, 0, 0, 0, 0, 0, '#rage', 0, 0, 0, 0, 0, 0, 0, 0, 0, 0, 0, 0, 0, 0, 0, 0, 0, 0, 0, 0, '#ecstasy', 0, '#grief', '#serenity', 0, 0, 0]\n",
      "Counter({0: 500, '#ecstasy': 19, '#contentment': 11, '#serenity': 10, '#grief': 9, '#enthusiasm': 8, 2: 6, '#rage': 6, '#melancholy': 5, '#calmness': 4, '#responsiveness': 3, '#terror': 3, '#joy': 3, '#sadness': 3, 8: 2, '#anger': 1, '#bliss': 1, 4: 1, '#anxiety': 1, '#delight': 1, 5: 1, 6: 1})\n"
     ]
    }
   ],
   "source": [
    "from IPython.display import HTML, display\n",
    "import numpy as np\n",
    "from collections import Counter\n",
    "batch_size = 1\n",
    "emo =[]\n",
    "wordcount = 0\n",
    "with open (\"./test1.txt\",\"r\", encoding = \"utf-8\") as f:\n",
    "    sent = f.read()\n",
    "    # seqs = [['I', 'understand', 'theres', 'bad', 'reviews', 'but', 'the', 'phone', 'I', 'received', 'came', 'in', 'solid', 'fresh', 'like', 'brand', 'new.', 'im', 'definitely', 'loving', 'it', 'and', '512gb', 'for', '1,000$', '(plus', 'taxes),', 'thats', 'a', 'good', 'deal,', 'they', 'go', 'for', '1,600', 'after', 'taxes', 'in', 'the', 'xxx', 'website.', 'Im', 'really', 'satisfied', 'and', 'i', 'would', 'strongly', 'recommend', 'it']]\n",
    "    seqs = split(sent)\n",
    "    for i in seqs[0]:\n",
    "        emo.append(word_emotion(i))\n",
    "        wordcount = wordcount+1\n",
    "    emos = [emo]\n",
    "    for i in range(batch_size):\n",
    "        text = mk_html(seqs[i], emos[i])\n",
    "#         print (text)\n",
    "        display(HTML(text))\n",
    "print (wordcount)\n",
    "print (emo)\n",
    "print(Counter(emo))"
   ]
  },
  {
   "cell_type": "code",
   "execution_count": 22,
   "metadata": {
    "id": "wvKDF1vlQDev",
    "outputId": "d4eea035-3044-4906-da9f-dba353a3ce69"
   },
   "outputs": [
    {
     "name": "stdout",
     "output_type": "stream",
     "text": [
      "Update 3.5 years in: still love it, use it all the time, no problems.\n",
      "\n",
      "For a long time, I wasn't a believer. If I want to cook something for hours until its delicious and tender, I've got a traditional slow cooker. If I want to feel fancy when I'm preparing perfectly-cooked meats, I've got my Anova sous vide, and a wireless meat thermometer for the grill.\n",
      "\n",
      "Eventually, though, there was a sale, and I bought one. Now, I didn't really have any meaningful concept of the differences between the sizes and models. This 8 quart Duo Plus came up as a daily deal thing, and I bought it. It was a good price. And you know, it can make like 2 gallons of yogurt or porridge or something.\n",
      "\n",
      "I'll be the first to admit that I didn't count on the sheer size of the thing. When I unboxed this 8-quart monstrosity, I experienced a moment of trepidation, a fear of ridicule from my wife, who would point out that we don't need a really really ridiculously huge pressure cooker for just us. \n",
      "\n",
      "The first time each of us used it, we felt what I'm sure every other pressure cooker rookie feels at first-the crippling fear that you're about to die in a horrific high-pressure home explosion, and that your family will always be embarrassed to explain that they were related to one of _those_ statistics. \n",
      "\n",
      "And it didn't take long before we realized (my wife especially, since she does a lot of the cooking) how fantastic this giant culinary autoclave really is. Cook an entire dinner of roast chicken with red beans & rice in one go? Done. Steam a whole mess 'o veggies when some friends show up with their gaggle of kids for dinner? Easy. Meatballs. Tamales. Artichokes. Corn on the cob. And there's just a single pot to scrub at the end! \n",
      "\n",
      "Last night I think I reached my true peak of giant Instant Pot appreciation. I cooked two racks of BBQ pork back ribs. I thought about just taking the meat to my dad's house and letting him do them in the smoker. But that would have taken like 10 hours! I could have tried the sous vide, but that would required me to cut up the ribs into ziploc-sized portions, to come up with a way to cook that much meat together in a bigger cooler than I usually use, and to then clean up the mess and cook for at least a few hours to get a good texture. And who has that kind of time when there's football to be watched and naps to be taken? Want to know how long I spent preparing this meal in the Instant Pot?\n",
      "- Five minutes unwrapping and rubbing the meat and stuffing it all into my countertop sauna. I'll leave the visualization to you.\n",
      "- Twenty minutes as the Instant Pot got up to cooking pressure.\n",
      "- 25 minutes cooking + 2 minutes decompressing (and filling the house with delicious porky aroma)\n",
      "- Five minutes painting on some sauce and letting everything sizzle on the grill.\n",
      "\n",
      "Seriously. Delicious, perfectly cooked barbecue ribs-enough to feed at least eight people-ready in about an hour.\n",
      "\n",
      "So yeah. I'm a fan. And even though it's comically large when we're just cooking for ourselves, I'm glad I got the 8 qt monster after all. I haven't even explored all of the fancy other options and space-age things it can do. But I will. If only because I can. Thanks, Instant Pot! <insert smile with tooth sparkle and \"ding\" sound>\n"
     ]
    }
   ],
   "source": [
    "with open (\"./test1.txt\",\"r\", encoding = \"utf-8\") as f:\n",
    "    print (f.read())"
   ]
  },
  {
   "cell_type": "code",
   "execution_count": null,
   "metadata": {
    "id": "twHSTsipQDew"
   },
   "outputs": [],
   "source": []
  }
 ],
 "metadata": {
  "colab": {
   "provenance": []
  },
  "kernelspec": {
   "display_name": "Python 3 (ipykernel)",
   "language": "python",
   "name": "python3"
  },
  "language_info": {
   "codemirror_mode": {
    "name": "ipython",
    "version": 3
   },
   "file_extension": ".py",
   "mimetype": "text/x-python",
   "name": "python",
   "nbconvert_exporter": "python",
   "pygments_lexer": "ipython3",
   "version": "3.12.7"
  }
 },
 "nbformat": 4,
 "nbformat_minor": 4
}
